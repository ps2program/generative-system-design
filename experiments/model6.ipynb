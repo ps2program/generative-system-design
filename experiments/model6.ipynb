{
 "cells": [
  {
   "cell_type": "code",
   "execution_count": null,
   "metadata": {},
   "outputs": [],
   "source": [
    "import uuid\n",
    "from sqlalchemy import create_engine, Column, Integer, String, ForeignKey, JSON, Table\n",
    "from sqlalchemy.orm import declarative_base, relationship, sessionmaker\n",
    "from sqlalchemy.dialects.postgresql import UUID\n",
    "\n",
    "Base = declarative_base()\n",
    "\n",
    "\n",
    "# Define the top-level Component model with UUID\n",
    "class Component(Base):\n",
    "    __tablename__ = 'components'\n",
    "\n",
    "    id = Column(Integer, primary_key=True)\n",
    "    uuid = Column(UUID(as_uuid=True), default=uuid.uuid4, unique=True, nullable=False)  # UUID field\n",
    "    name = Column(String, nullable=False)\n",
    "    description = Column(String, nullable=True)\n",
    "\n",
    "    # One-to-many relationship with requirements\n",
    "    requirements = relationship(\"Requirement\", back_populates=\"component\")\n",
    "\n",
    "    def __repr__(self):\n",
    "        return f\"<Component(id={self.id}, uuid={self.uuid}, name='{self.name}')>\"\n",
    "\n",
    "# Define the Requirement model with UUID and JSON data\n",
    "class Requirement(Base):\n",
    "    __tablename__ = 'requirements'\n",
    "\n",
    "    id = Column(Integer, primary_key=True)\n",
    "    uuid = Column(UUID(as_uuid=True), default=uuid.uuid4, unique=True, nullable=False)  # UUID field\n",
    "    component_id = Column(Integer, ForeignKey('components.id'), nullable=True)  # Made nullable for sub-requirements\n",
    "    data = Column(JSON, nullable=False)  # Store Requirement as JSON\n",
    "\n",
    "    component = relationship(\"Component\", back_populates=\"requirements\")\n",
    "    functions = relationship(\"Function\", secondary=requirement_function_association, back_populates=\"requirements\")\n",
    "    \n",
    "    # Self-referential relationship for sub-requirements\n",
    "    sub_requirements = relationship(\n",
    "        \"Requirement\", secondary=sub_requirement_association,\n",
    "        primaryjoin=id == sub_requirement_association.c.parent_id,\n",
    "        secondaryjoin=id == sub_requirement_association.c.child_id,\n",
    "        backref=\"parent_requirements\"\n",
    "    )\n",
    "\n",
    "    def __repr__(self):\n",
    "        return f\"<Requirement(id={self.id}, uuid={self.uuid}, data={self.data})>\""
   ]
  }
 ],
 "metadata": {
  "kernelspec": {
   "display_name": "ps3",
   "language": "python",
   "name": "python3"
  },
  "language_info": {
   "name": "python",
   "version": "3.12.5"
  }
 },
 "nbformat": 4,
 "nbformat_minor": 2
}
