{
 "cells": [
  {
   "cell_type": "code",
   "execution_count": 5,
   "metadata": {},
   "outputs": [
    {
     "name": "stdout",
     "output_type": "stream",
     "text": [
      "{'prefix': [1, 3, 8, 16, 70, 74], 'orig': [1, 2, 5, 8, 54, 4]}\n"
     ]
    }
   ],
   "source": [
    "def prefixSum(nums):\n",
    "    prefixSum = []\n",
    "    original = []\n",
    "    currentSum = 0\n",
    "    for i, n in enumerate(nums):\n",
    "        currentSum = currentSum + nums[i]\n",
    "        prefixSum.append(currentSum)\n",
    "        original.append(n)\n",
    "    \n",
    "    result = {\"prefix\":prefixSum, \"orig\":original}\n",
    "    return {\"prefix\":prefixSum, \"orig\":original}\n",
    "\n",
    "nums = [1,2,5,8,54,4]\n",
    "\n",
    "print(prefixSum(nums))"
   ]
  },
  {
   "cell_type": "code",
   "execution_count": 18,
   "metadata": {},
   "outputs": [
    {
     "name": "stdout",
     "output_type": "stream",
     "text": [
      "[5456464]\n"
     ]
    }
   ],
   "source": [
    "def bestTime(nums:list[int])-> list[int]:\n",
    "    \n",
    "    cur_min = 1000\n",
    "    current_profit = 0\n",
    "    \n",
    "    for i in range(len(nums)):\n",
    "        cur_min = min(cur_min,nums[i])\n",
    "        profit = nums[i] - cur_min\n",
    "        current_profit = max(current_profit, profit)\n",
    "    return [current_profit]\n",
    "        \n",
    "nums =  [90, 3, 8, 89, 70, 74,1, 2, 5, 8, 5456465, 4]\n",
    "\n",
    "print(bestTime(nums))\n",
    "    "
   ]
  },
  {
   "cell_type": "code",
   "execution_count": 38,
   "metadata": {},
   "outputs": [
    {
     "name": "stdout",
     "output_type": "stream",
     "text": [
      "is sky the\n"
     ]
    }
   ],
   "source": [
    "s = \"the sky is blue\"\n",
    "lst = []\n",
    "\n",
    "concate = ''\n",
    "\n",
    "\n",
    "for i in range(len(s)):\n",
    "    if not s[i].isspace():\n",
    "        concate+=s[i]\n",
    "    elif i == len(s)+1:\n",
    "        lst.append(concate)\n",
    "    else:\n",
    "        lst.append(concate)\n",
    "        concate = ''\n",
    "    \n",
    "reverselist = list(reversed(lst))\n",
    "reverseString = \" \".join(reverselist)\n",
    "\n",
    "print(reverseString)\n",
    "        \n",
    "\n",
    "\n"
   ]
  },
  {
   "cell_type": "code",
   "execution_count": null,
   "metadata": {},
   "outputs": [],
   "source": []
  },
  {
   "cell_type": "code",
   "execution_count": null,
   "metadata": {},
   "outputs": [],
   "source": []
  },
  {
   "cell_type": "code",
   "execution_count": null,
   "metadata": {},
   "outputs": [],
   "source": []
  },
  {
   "cell_type": "code",
   "execution_count": null,
   "metadata": {},
   "outputs": [],
   "source": []
  },
  {
   "cell_type": "code",
   "execution_count": null,
   "metadata": {},
   "outputs": [],
   "source": []
  },
  {
   "cell_type": "code",
   "execution_count": null,
   "metadata": {},
   "outputs": [],
   "source": []
  },
  {
   "cell_type": "code",
   "execution_count": null,
   "metadata": {},
   "outputs": [],
   "source": [
    "s"
   ]
  },
  {
   "cell_type": "code",
   "execution_count": null,
   "metadata": {},
   "outputs": [],
   "source": []
  },
  {
   "cell_type": "code",
   "execution_count": null,
   "metadata": {},
   "outputs": [],
   "source": []
  },
  {
   "cell_type": "code",
   "execution_count": null,
   "metadata": {},
   "outputs": [],
   "source": []
  }
 ],
 "metadata": {
  "kernelspec": {
   "display_name": "ps3",
   "language": "python",
   "name": "python3"
  },
  "language_info": {
   "codemirror_mode": {
    "name": "ipython",
    "version": 3
   },
   "file_extension": ".py",
   "mimetype": "text/x-python",
   "name": "python",
   "nbconvert_exporter": "python",
   "pygments_lexer": "ipython3",
   "version": "3.12.5"
  }
 },
 "nbformat": 4,
 "nbformat_minor": 2
}
